{
 "cells": [
  {
   "cell_type": "code",
   "execution_count": 63,
   "id": "b1ed930f-dc2c-4867-8d72-e49cb1fd0829",
   "metadata": {},
   "outputs": [],
   "source": [
    "import pandas as pd\n",
    "import numpy as np\n",
    "from sklearn.linear_model import LinearRegression\n",
    "from sklearn.metrics import mean_squared_error"
   ]
  },
  {
   "cell_type": "code",
   "execution_count": 64,
   "id": "0d344769-1b47-471a-9641-a7d39530324b",
   "metadata": {},
   "outputs": [],
   "source": [
    "df = pd.read_csv(\"https://raw.githubusercontent.com/alexeygrigorev/datasets/master/car_fuel_efficiency.csv\")"
   ]
  },
  {
   "cell_type": "code",
   "execution_count": 65,
   "id": "3b33176b-433e-4ee2-8af0-5b6d7bd741bd",
   "metadata": {},
   "outputs": [
    {
     "data": {
      "text/html": [
       "<div>\n",
       "<style scoped>\n",
       "    .dataframe tbody tr th:only-of-type {\n",
       "        vertical-align: middle;\n",
       "    }\n",
       "\n",
       "    .dataframe tbody tr th {\n",
       "        vertical-align: top;\n",
       "    }\n",
       "\n",
       "    .dataframe thead th {\n",
       "        text-align: right;\n",
       "    }\n",
       "</style>\n",
       "<table border=\"1\" class=\"dataframe\">\n",
       "  <thead>\n",
       "    <tr style=\"text-align: right;\">\n",
       "      <th></th>\n",
       "      <th>engine_displacement</th>\n",
       "      <th>horsepower</th>\n",
       "      <th>vehicle_weight</th>\n",
       "      <th>model_year</th>\n",
       "      <th>fuel_efficiency_mpg</th>\n",
       "    </tr>\n",
       "  </thead>\n",
       "  <tbody>\n",
       "    <tr>\n",
       "      <th>0</th>\n",
       "      <td>170</td>\n",
       "      <td>159.0</td>\n",
       "      <td>3413.433759</td>\n",
       "      <td>2003</td>\n",
       "      <td>13.231729</td>\n",
       "    </tr>\n",
       "    <tr>\n",
       "      <th>1</th>\n",
       "      <td>130</td>\n",
       "      <td>97.0</td>\n",
       "      <td>3149.664934</td>\n",
       "      <td>2007</td>\n",
       "      <td>13.688217</td>\n",
       "    </tr>\n",
       "    <tr>\n",
       "      <th>2</th>\n",
       "      <td>170</td>\n",
       "      <td>78.0</td>\n",
       "      <td>3079.038997</td>\n",
       "      <td>2018</td>\n",
       "      <td>14.246341</td>\n",
       "    </tr>\n",
       "    <tr>\n",
       "      <th>3</th>\n",
       "      <td>220</td>\n",
       "      <td>NaN</td>\n",
       "      <td>2542.392402</td>\n",
       "      <td>2009</td>\n",
       "      <td>16.912736</td>\n",
       "    </tr>\n",
       "    <tr>\n",
       "      <th>4</th>\n",
       "      <td>210</td>\n",
       "      <td>140.0</td>\n",
       "      <td>3460.870990</td>\n",
       "      <td>2009</td>\n",
       "      <td>12.488369</td>\n",
       "    </tr>\n",
       "    <tr>\n",
       "      <th>...</th>\n",
       "      <td>...</td>\n",
       "      <td>...</td>\n",
       "      <td>...</td>\n",
       "      <td>...</td>\n",
       "      <td>...</td>\n",
       "    </tr>\n",
       "    <tr>\n",
       "      <th>9699</th>\n",
       "      <td>140</td>\n",
       "      <td>164.0</td>\n",
       "      <td>2981.107371</td>\n",
       "      <td>2013</td>\n",
       "      <td>15.101802</td>\n",
       "    </tr>\n",
       "    <tr>\n",
       "      <th>9700</th>\n",
       "      <td>180</td>\n",
       "      <td>154.0</td>\n",
       "      <td>2439.525729</td>\n",
       "      <td>2004</td>\n",
       "      <td>17.962326</td>\n",
       "    </tr>\n",
       "    <tr>\n",
       "      <th>9701</th>\n",
       "      <td>220</td>\n",
       "      <td>138.0</td>\n",
       "      <td>2583.471318</td>\n",
       "      <td>2008</td>\n",
       "      <td>17.186587</td>\n",
       "    </tr>\n",
       "    <tr>\n",
       "      <th>9702</th>\n",
       "      <td>230</td>\n",
       "      <td>177.0</td>\n",
       "      <td>2905.527390</td>\n",
       "      <td>2011</td>\n",
       "      <td>15.331551</td>\n",
       "    </tr>\n",
       "    <tr>\n",
       "      <th>9703</th>\n",
       "      <td>270</td>\n",
       "      <td>140.0</td>\n",
       "      <td>2908.043477</td>\n",
       "      <td>2005</td>\n",
       "      <td>14.884467</td>\n",
       "    </tr>\n",
       "  </tbody>\n",
       "</table>\n",
       "<p>9704 rows × 5 columns</p>\n",
       "</div>"
      ],
      "text/plain": [
       "      engine_displacement  horsepower  vehicle_weight  model_year  \\\n",
       "0                     170       159.0     3413.433759        2003   \n",
       "1                     130        97.0     3149.664934        2007   \n",
       "2                     170        78.0     3079.038997        2018   \n",
       "3                     220         NaN     2542.392402        2009   \n",
       "4                     210       140.0     3460.870990        2009   \n",
       "...                   ...         ...             ...         ...   \n",
       "9699                  140       164.0     2981.107371        2013   \n",
       "9700                  180       154.0     2439.525729        2004   \n",
       "9701                  220       138.0     2583.471318        2008   \n",
       "9702                  230       177.0     2905.527390        2011   \n",
       "9703                  270       140.0     2908.043477        2005   \n",
       "\n",
       "      fuel_efficiency_mpg  \n",
       "0               13.231729  \n",
       "1               13.688217  \n",
       "2               14.246341  \n",
       "3               16.912736  \n",
       "4               12.488369  \n",
       "...                   ...  \n",
       "9699            15.101802  \n",
       "9700            17.962326  \n",
       "9701            17.186587  \n",
       "9702            15.331551  \n",
       "9703            14.884467  \n",
       "\n",
       "[9704 rows x 5 columns]"
      ]
     },
     "execution_count": 65,
     "metadata": {},
     "output_type": "execute_result"
    }
   ],
   "source": [
    "df=df[['engine_displacement','horsepower','vehicle_weight','model_year','fuel_efficiency_mpg']]\n",
    "df"
   ]
  },
  {
   "cell_type": "markdown",
   "id": "8458d394-5ef2-4036-9ec2-77766c9de115",
   "metadata": {},
   "source": [
    "## Q1"
   ]
  },
  {
   "cell_type": "code",
   "execution_count": 66,
   "id": "c2fb58db-a06e-43d0-a286-92f3af12cb13",
   "metadata": {},
   "outputs": [
    {
     "data": {
      "text/plain": [
       "engine_displacement      0\n",
       "horsepower             708\n",
       "vehicle_weight           0\n",
       "model_year               0\n",
       "fuel_efficiency_mpg      0\n",
       "dtype: int64"
      ]
     },
     "execution_count": 66,
     "metadata": {},
     "output_type": "execute_result"
    }
   ],
   "source": [
    "df.isna().sum()"
   ]
  },
  {
   "cell_type": "markdown",
   "id": "d5b1ce9a-094f-427c-a4e4-e8c9e37957a2",
   "metadata": {},
   "source": [
    "## Q2"
   ]
  },
  {
   "cell_type": "code",
   "execution_count": 67,
   "id": "d657cd5f-4379-488d-add4-a206d7d51b93",
   "metadata": {},
   "outputs": [
    {
     "data": {
      "text/plain": [
       "np.float64(149.0)"
      ]
     },
     "execution_count": 67,
     "metadata": {},
     "output_type": "execute_result"
    }
   ],
   "source": [
    "df.horsepower.median()"
   ]
  },
  {
   "cell_type": "code",
   "execution_count": 68,
   "id": "1ff15ba1-4ef2-41da-a658-cbce7a027651",
   "metadata": {},
   "outputs": [],
   "source": [
    "n=len(df)\n",
    "n_test = int(0.2*n)\n",
    "n_val = int(0.2*n)\n",
    "n_train = n - n_val - n_test"
   ]
  },
  {
   "cell_type": "code",
   "execution_count": 111,
   "id": "d251e8ce-ebca-47a9-bbac-52e7d226bcaf",
   "metadata": {},
   "outputs": [],
   "source": [
    "idx = np.arange(n)"
   ]
  },
  {
   "cell_type": "code",
   "execution_count": 105,
   "id": "9e1ee35a-770d-48bd-8b8c-759910d8335c",
   "metadata": {},
   "outputs": [],
   "source": [
    "np.random.seed(42)\n",
    "np.random.shuffle(idx)"
   ]
  },
  {
   "cell_type": "markdown",
   "id": "1866656f-4aa2-484b-8128-038fd04f57d4",
   "metadata": {},
   "source": [
    "## Q3"
   ]
  },
  {
   "cell_type": "code",
   "execution_count": 70,
   "id": "08a7e2cd-00c9-4101-a1c2-de0b0eedf60d",
   "metadata": {},
   "outputs": [],
   "source": [
    "df_train=df.iloc[idx[:n_train]]\n",
    "df_val=df.iloc[idx[n_train:n_train+n_val]]\n",
    "df_test=df.iloc[idx[n_train+n_val:]]"
   ]
  },
  {
   "cell_type": "code",
   "execution_count": 71,
   "id": "cb11d9ba-02ff-436d-9089-e9a0c153d6a5",
   "metadata": {},
   "outputs": [],
   "source": [
    "y_train=df_train.fuel_efficiency_mpg.values\n",
    "y_val=df_val.fuel_efficiency_mpg.values\n",
    "y_test=df_test.fuel_efficiency_mpg.values"
   ]
  },
  {
   "cell_type": "code",
   "execution_count": 72,
   "id": "7928fbd1-d736-4a3e-ae6b-5c7e6a7d27ed",
   "metadata": {},
   "outputs": [],
   "source": [
    "del df_train['fuel_efficiency_mpg']\n",
    "del df_val['fuel_efficiency_mpg']\n",
    "del df_test['fuel_efficiency_mpg']"
   ]
  },
  {
   "cell_type": "code",
   "execution_count": 73,
   "id": "c0990c85-bef7-4053-9444-b628822e1467",
   "metadata": {},
   "outputs": [],
   "source": [
    "df_train = df_train.reset_index(drop=True)\n",
    "df_test = df_test.reset_index(drop=True)\n",
    "df_val= df_val.reset_index(drop=True)"
   ]
  },
  {
   "cell_type": "code",
   "execution_count": 74,
   "id": "162039bb-e507-4d01-a706-2489b24e5fe1",
   "metadata": {},
   "outputs": [],
   "source": [
    "def train_linear_regression(X, y):\n",
    "    ones = np.ones(X.shape[0])\n",
    "    X = np.column_stack([ones, X])\n",
    "\n",
    "    XTX = X.T.dot(X)\n",
    "    XTX_inv = np.linalg.inv(XTX)\n",
    "    w = XTX_inv.dot(X.T).dot(y)\n",
    "    \n",
    "    return w[0], w[1:]"
   ]
  },
  {
   "cell_type": "code",
   "execution_count": 75,
   "id": "89b8ac4f-7e52-4f47-a40e-2e9f294c8113",
   "metadata": {},
   "outputs": [],
   "source": [
    "def rmse(y, y_pred):\n",
    "    error = y_pred - y\n",
    "    mse = (error ** 2).mean()\n",
    "    return np.sqrt(mse)"
   ]
  },
  {
   "cell_type": "markdown",
   "id": "4afb17ae-807e-4dd1-b135-cf67722f0124",
   "metadata": {},
   "source": [
    "### Option 1: fill missing values with 0"
   ]
  },
  {
   "cell_type": "code",
   "execution_count": 76,
   "id": "db3e67c2-0002-4f5f-90f4-379925732d03",
   "metadata": {},
   "outputs": [],
   "source": [
    "X_train=df_train.fillna(0).values\n",
    "X_val=df_val.fillna(0).values\n",
    "X_test=df_test.fillna(0).values"
   ]
  },
  {
   "cell_type": "code",
   "execution_count": 77,
   "id": "7cae2081-ae95-4adb-a17f-6c82fa72b1a5",
   "metadata": {},
   "outputs": [],
   "source": [
    "w_0,w=train_linear_regression(X_train,y_train)"
   ]
  },
  {
   "cell_type": "code",
   "execution_count": 78,
   "id": "2393cf46-d512-4599-b9f9-0bfc6ebe203e",
   "metadata": {},
   "outputs": [
    {
     "data": {
      "text/plain": [
       "(np.float64(28.827365475106156),\n",
       " array([ 9.93613218e-05,  3.54221891e-03, -5.01328015e-03,  3.42992869e-04]))"
      ]
     },
     "execution_count": 78,
     "metadata": {},
     "output_type": "execute_result"
    }
   ],
   "source": [
    "w_0,w"
   ]
  },
  {
   "cell_type": "code",
   "execution_count": 79,
   "id": "68d1ef0f-53ab-4d6a-90a7-92b76869867e",
   "metadata": {},
   "outputs": [
    {
     "data": {
      "text/plain": [
       "np.float64(0.52)"
      ]
     },
     "execution_count": 79,
     "metadata": {},
     "output_type": "execute_result"
    }
   ],
   "source": [
    "y_pred = w_0 + X_val.dot(w)\n",
    "round(rmse(y_val, y_pred),2)"
   ]
  },
  {
   "cell_type": "code",
   "execution_count": 80,
   "id": "e1496a0f-d6dc-4fd0-bd07-81a27c97ad3e",
   "metadata": {},
   "outputs": [
    {
     "name": "stdout",
     "output_type": "stream",
     "text": [
      "[ 9.93613218e-05  3.54221891e-03 -5.01328015e-03  3.42992869e-04] 28.827365474603408\n"
     ]
    }
   ],
   "source": [
    "model = LinearRegression()\n",
    "model.fit(X_train, y_train)\n",
    "print(model.coef_, model.intercept_) "
   ]
  },
  {
   "cell_type": "code",
   "execution_count": 81,
   "id": "1d11cadd-235a-4314-a8ae-45e0a577743e",
   "metadata": {},
   "outputs": [
    {
     "name": "stdout",
     "output_type": "stream",
     "text": [
      "RMSE: 0.5173782638840942\n"
     ]
    }
   ],
   "source": [
    "y_pred = model.predict(X_val)\n",
    "mse = mean_squared_error(y_val, y_pred)\n",
    "print(\"RMSE:\", np.sqrt(mse))"
   ]
  },
  {
   "cell_type": "markdown",
   "id": "99a47cb7-168c-40e8-b966-bcb7f2141271",
   "metadata": {},
   "source": [
    "### Option 2: fill missing values with the mean"
   ]
  },
  {
   "cell_type": "code",
   "execution_count": 82,
   "id": "4d8abf4c-f0c7-4cef-ba7d-46a20dd85bd6",
   "metadata": {},
   "outputs": [],
   "source": [
    "X_train=df_train.fillna(df_train.horsepower.mean()).values\n",
    "X_val=df_val.fillna(df_train.horsepower.mean()).values\n",
    "X_test=df_test.fillna(df_train.horsepower.mean()).values"
   ]
  },
  {
   "cell_type": "code",
   "execution_count": 83,
   "id": "35224b27-417a-4678-9124-9767892a820f",
   "metadata": {},
   "outputs": [],
   "source": [
    "w_0,w=train_linear_regression(X_train,y_train)"
   ]
  },
  {
   "cell_type": "code",
   "execution_count": 84,
   "id": "4b47ccc5-d578-469f-ba45-1c6485584edc",
   "metadata": {},
   "outputs": [
    {
     "data": {
      "text/plain": [
       "(np.float64(28.925259952113596),\n",
       " array([ 0.00012093,  0.01030308, -0.00501009, -0.00023463]))"
      ]
     },
     "execution_count": 84,
     "metadata": {},
     "output_type": "execute_result"
    }
   ],
   "source": [
    "w_0,w"
   ]
  },
  {
   "cell_type": "code",
   "execution_count": 85,
   "id": "bf0a291a-0779-4453-afe6-2b2428c08875",
   "metadata": {},
   "outputs": [
    {
     "data": {
      "text/plain": [
       "np.float64(0.46)"
      ]
     },
     "execution_count": 85,
     "metadata": {},
     "output_type": "execute_result"
    }
   ],
   "source": [
    "y_pred = w_0 + X_val.dot(w)\n",
    "round(rmse(y_val, y_pred),2)"
   ]
  },
  {
   "cell_type": "code",
   "execution_count": 86,
   "id": "7ff5f561-738b-40d4-9c23-fc9488339d81",
   "metadata": {},
   "outputs": [
    {
     "name": "stdout",
     "output_type": "stream",
     "text": [
      "[ 0.00012093  0.01030308 -0.00501009 -0.00023463] 28.92525995185654\n"
     ]
    }
   ],
   "source": [
    "model = LinearRegression()\n",
    "model.fit(X_train, y_train)\n",
    "print(model.coef_, model.intercept_) "
   ]
  },
  {
   "cell_type": "code",
   "execution_count": 87,
   "id": "19ab6ccb-7a14-466c-99e2-d33984ff7bbd",
   "metadata": {},
   "outputs": [
    {
     "name": "stdout",
     "output_type": "stream",
     "text": [
      "RMSE: 0.46359650423335236\n"
     ]
    }
   ],
   "source": [
    "y_pred = model.predict(X_val)\n",
    "mse = mean_squared_error(y_val, y_pred)\n",
    "print(\"RMSE:\", np.sqrt(mse))"
   ]
  },
  {
   "cell_type": "markdown",
   "id": "5c0ceef1-9d21-498b-9cdf-ae8f195b33e4",
   "metadata": {},
   "source": [
    "## Q4"
   ]
  },
  {
   "cell_type": "code",
   "execution_count": 98,
   "id": "1e3261a6-b610-4fc8-9fb1-162547542266",
   "metadata": {},
   "outputs": [],
   "source": [
    "def train_linear_regression_reg(X, y, r=0.0):\n",
    "    ones = np.ones(X.shape[0])\n",
    "    X = np.column_stack([ones, X])\n",
    "\n",
    "    XTX = X.T.dot(X)\n",
    "    XTX = XTX + r * np.eye(XTX.shape[0])\n",
    "\n",
    "    XTX_inv = np.linalg.inv(XTX)\n",
    "    w_full = XTX_inv.dot(X.T).dot(y)\n",
    "    \n",
    "    return w_full[0], w_full[1:]"
   ]
  },
  {
   "cell_type": "code",
   "execution_count": 99,
   "id": "e44ee598-342e-49fe-9757-0829d53bafd9",
   "metadata": {},
   "outputs": [],
   "source": [
    "X_train=df_train.fillna(0).values\n",
    "X_val=df_val.fillna(0).values\n",
    "X_test=df_test.fillna(0).values"
   ]
  },
  {
   "cell_type": "code",
   "execution_count": 100,
   "id": "6095dc10-6627-4b41-b4bc-44b59e3592c4",
   "metadata": {},
   "outputs": [
    {
     "name": "stdout",
     "output_type": "stream",
     "text": [
      "0 0.5174\n",
      "0.01 0.5171\n",
      "0.1 0.5188\n",
      "1 0.5222\n",
      "5 0.5229\n",
      "10 0.523\n",
      "100 0.5231\n"
     ]
    }
   ],
   "source": [
    "for r in [0, 0.01, 0.1, 1, 5, 10, 100]:\n",
    "    w0, w = train_linear_regression_reg(X_train, y_train, r=r)\n",
    "    y_pred = w0 + X_val.dot(w)\n",
    "    score = round(rmse(y_val, y_pred),4)\n",
    "    \n",
    "    print(r, score)"
   ]
  },
  {
   "cell_type": "markdown",
   "id": "b2625ed0-226f-49d4-a0c9-132c34e398fa",
   "metadata": {},
   "source": [
    "## Q5"
   ]
  },
  {
   "cell_type": "code",
   "execution_count": 121,
   "id": "efdc42c5-33c8-4e00-9b96-f2e2283121ba",
   "metadata": {},
   "outputs": [
    {
     "name": "stdout",
     "output_type": "stream",
     "text": [
      "0 0.5207\n",
      "1 0.5213\n",
      "2 0.5228\n",
      "3 0.516\n",
      "4 0.5109\n",
      "5 0.5283\n",
      "6 0.5314\n",
      "7 0.5091\n",
      "8 0.5147\n",
      "9 0.5132\n"
     ]
    }
   ],
   "source": [
    "rmse_scores=[]\n",
    "for seed in [0, 1, 2, 3, 4, 5, 6, 7, 8, 9]:\n",
    "    idx = np.arange(n)\n",
    "    np.random.seed(seed)\n",
    "    np.random.shuffle(idx)\n",
    "    df_train=df.iloc[idx[:n_train]]\n",
    "    df_val=df.iloc[idx[n_train:n_train+n_val]]\n",
    "    df_test=df.iloc[idx[n_train+n_val:]]\n",
    "    y_train=df_train.fuel_efficiency_mpg.values\n",
    "    y_val=df_val.fuel_efficiency_mpg.values\n",
    "    y_test=df_test.fuel_efficiency_mpg.values\n",
    "    del df_train['fuel_efficiency_mpg']\n",
    "    del df_val['fuel_efficiency_mpg']\n",
    "    del df_test['fuel_efficiency_mpg']\n",
    "    df_train = df_train.reset_index(drop=True)\n",
    "    df_test = df_test.reset_index(drop=True)\n",
    "    df_val= df_val.reset_index(drop=True)\n",
    "    X_train=df_train.fillna(0).values\n",
    "    X_val=df_val.fillna(0).values\n",
    "    X_test=df_test.fillna(0).values\n",
    "    w_0,w=train_linear_regression(X_train,y_train)\n",
    "    y_pred = w_0 + X_val.dot(w)\n",
    "    rmse_scores.append(rmse(y_val, y_pred))\n",
    "    print(seed, round(rmse(y_val, y_pred),4))\n",
    "    \n",
    "    "
   ]
  },
  {
   "cell_type": "code",
   "execution_count": 122,
   "id": "0d012288-5a20-43ec-b9dd-9589d4082619",
   "metadata": {},
   "outputs": [
    {
     "data": {
      "text/plain": [
       "np.float64(0.007)"
      ]
     },
     "execution_count": 122,
     "metadata": {},
     "output_type": "execute_result"
    }
   ],
   "source": [
    "std=np.std(rmse_scores)\n",
    "round(std,3)"
   ]
  },
  {
   "cell_type": "markdown",
   "id": "eb420c88-02ba-4f11-87fc-32026426f743",
   "metadata": {},
   "source": [
    "## Q6"
   ]
  },
  {
   "cell_type": "code",
   "execution_count": 125,
   "id": "7d6eb56e-d538-4ddd-9f23-452fb692a9ac",
   "metadata": {},
   "outputs": [],
   "source": [
    "idx = np.arange(n)\n",
    "np.random.seed(9)\n",
    "np.random.shuffle(idx)\n",
    "df_train=df.iloc[idx[:n_train]]\n",
    "df_val=df.iloc[idx[n_train:n_train+n_val]]\n",
    "df_test=df.iloc[idx[n_train+n_val:]]\n",
    "\n",
    "df_full_train = pd.concat([df_train, df_val])\n",
    "\n",
    "y_train=df_full_train.fuel_efficiency_mpg.values\n",
    "y_test=df_test.fuel_efficiency_mpg.values\n",
    "\n",
    "del df_full_train['fuel_efficiency_mpg']\n",
    "del df_test['fuel_efficiency_mpg']\n",
    "\n",
    "df_full_train = df_full_train.reset_index(drop=True)\n",
    "df_val= df_val.reset_index(drop=True)\n",
    "    \n",
    "X_train=df_full_train.fillna(0).values\n",
    "X_test=df_test.fillna(0).values\n"
   ]
  },
  {
   "cell_type": "code",
   "execution_count": 126,
   "id": "31fa1dc3-2086-4b39-aea6-6ac4750e7877",
   "metadata": {},
   "outputs": [
    {
     "name": "stdout",
     "output_type": "stream",
     "text": [
      "0.5156261299167999\n"
     ]
    }
   ],
   "source": [
    "w_0,w=train_linear_regression_reg(X_train,y_train, r=0.001)\n",
    "y_pred = w_0 + X_test.dot(w)\n",
    "print(rmse(y_test, y_pred))"
   ]
  }
 ],
 "metadata": {
  "kernelspec": {
   "display_name": "Python 3 (ipykernel)",
   "language": "python",
   "name": "python3"
  },
  "language_info": {
   "codemirror_mode": {
    "name": "ipython",
    "version": 3
   },
   "file_extension": ".py",
   "mimetype": "text/x-python",
   "name": "python",
   "nbconvert_exporter": "python",
   "pygments_lexer": "ipython3",
   "version": "3.12.1"
  }
 },
 "nbformat": 4,
 "nbformat_minor": 5
}
